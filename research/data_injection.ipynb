{
 "cells": [
  {
   "cell_type": "code",
   "execution_count": 1,
   "id": "6c0c8953",
   "metadata": {},
   "outputs": [
    {
     "data": {
      "text/plain": [
       "'c:\\\\Users\\\\timil\\\\OneDrive\\\\Documents\\\\My_ML project\\\\End-to-end-chicken-Disease-Classification\\\\research'"
      ]
     },
     "execution_count": 1,
     "metadata": {},
     "output_type": "execute_result"
    }
   ],
   "source": [
    "%pwd"
   ]
  },
  {
   "cell_type": "code",
   "execution_count": 2,
   "id": "f645e392",
   "metadata": {},
   "outputs": [],
   "source": [
    "import os\n",
    "os.chdir(\"../\")"
   ]
  },
  {
   "cell_type": "code",
   "execution_count": 3,
   "id": "fbdb6bd0",
   "metadata": {},
   "outputs": [
    {
     "data": {
      "text/plain": [
       "'c:\\\\Users\\\\timil\\\\OneDrive\\\\Documents\\\\My_ML project\\\\End-to-end-chicken-Disease-Classification'"
      ]
     },
     "execution_count": 3,
     "metadata": {},
     "output_type": "execute_result"
    }
   ],
   "source": [
    "%pwd"
   ]
  },
  {
   "cell_type": "code",
   "execution_count": 11,
   "id": "995d4959",
   "metadata": {},
   "outputs": [],
   "source": [
    "from dataclasses import dataclass\n",
    "from pathlib import Path\n",
    "\n",
    "@dataclass(frozen=True)\n",
    "class DataIngestionConfig:\n",
    "    root_dir: Path\n",
    "    source_URL: str\n",
    "    local_data_path: Path\n",
    "    unzip_dir: Path"
   ]
  },
  {
   "cell_type": "code",
   "execution_count": 12,
   "id": "f76d33e1",
   "metadata": {},
   "outputs": [],
   "source": [
    "from src.Chicken_Disease_Classification.constant import *\n",
    "from src.Chicken_Disease_Classification.utils.common import read_yaml, create_directories "
   ]
  },
  {
   "cell_type": "code",
   "execution_count": 13,
   "id": "52ad43e1",
   "metadata": {},
   "outputs": [],
   "source": [
    "\n",
    "class ConfigurationManager:\n",
    "    def __init__(self, config_filepath=CONFIG_FILE_PATH, params_filepath=PARAMS_FILE_PATH):\n",
    "        self.config = read_yaml(config_filepath)\n",
    "        #self.params = read_yaml(params_filepath)\n",
    "\n",
    "        create_directories([Path(self.config[\"artifacts_root\"])])\n",
    "\n",
    "    def get_data_ingestion_config(self) -> DataIngestionConfig:\n",
    "        config = self.config[\"data_ingestion\"]\n",
    "\n",
    "        # Create the directory where the ZIP will be downloaded and extracted\n",
    "        create_directories([\n",
    "            Path(config[\"local_data_path\"]).parent,\n",
    "            Path(config[\"unzip_dir\"])\n",
    "        ])\n",
    "\n",
    "        data_ingestion_config = DataIngestionConfig(\n",
    "            root_dir=Path(self.config[\"artifacts_root\"]),\n",
    "            source_URL=config[\"source_URL\"],\n",
    "            local_data_path=Path(config[\"local_data_path\"]),\n",
    "            unzip_dir=Path(config[\"unzip_dir\"])\n",
    "        )\n",
    "        return data_ingestion_config"
   ]
  },
  {
   "cell_type": "code",
   "execution_count": 14,
   "id": "75b3a235",
   "metadata": {},
   "outputs": [],
   "source": [
    "import os\n",
    "import urllib.request as request \n",
    "from src.Chicken_Disease_Classification.utils.logger import logger\n",
    "from src.Chicken_Disease_Classification.utils.common import get_size"
   ]
  },
  {
   "cell_type": "code",
   "execution_count": 23,
   "id": "9841f9cf",
   "metadata": {},
   "outputs": [],
   "source": [
    "import os\n",
    "from pathlib import Path\n",
    "import py7zr\n",
    "from urllib import request\n",
    "\n",
    "class DataIngestion:\n",
    "    def __init__(self, config: DataIngestionConfig):\n",
    "        self.config = config\n",
    "\n",
    "    def download_file(self):\n",
    "        if not os.path.exists(self.config.local_data_path):\n",
    "            filename, _ = request.urlretrieve(\n",
    "                url=self.config.source_URL,\n",
    "                filename=self.config.local_data_path\n",
    "            )\n",
    "            logger.info(f\" Downloaded file: {filename} | Size: {get_size(Path(filename))}\")\n",
    "        else:\n",
    "            logger.info(f\" File already exists at: {self.config.local_data_path}\")\n",
    "\n",
    "    def extract_zip_file(self):\n",
    "        unzip_path = self.config.unzip_dir\n",
    "        os.makedirs(unzip_path, exist_ok=True)\n",
    "\n",
    "        with py7zr.SevenZipFile(self.config.local_data_path, mode='r') as archive:\n",
    "            archive.extractall(path=unzip_path)\n",
    "\n",
    "        logger.info(f\" Extracted 7z archive to: {unzip_path}\")"
   ]
  },
  {
   "cell_type": "code",
   "execution_count": 24,
   "id": "12a30197",
   "metadata": {},
   "outputs": [
    {
     "name": "stdout",
     "output_type": "stream",
     "text": [
      "[2025-08-22 03:53:02,738: INFO: common: Directory created at: artifacts]\n",
      "[2025-08-22 03:53:02,740: INFO: common: Directory created at: artifacts\\data_ingestion]\n",
      "[2025-08-22 03:53:02,742: INFO: common: Directory created at: artifacts\\data_ingestion\\unzipped]\n",
      "[2025-08-22 03:53:02,744: INFO: 388049438:  File already exists at: artifacts\\data_ingestion\\data.zip]\n",
      "[2025-08-22 03:53:03,697: INFO: 388049438:  Extracted 7z archive to: artifacts\\data_ingestion\\unzipped]\n"
     ]
    }
   ],
   "source": [
    "try:\n",
    "    config = ConfigurationManager()\n",
    "    data_ingestion_config = config.get_data_ingestion_config()\n",
    "    data_ingestion = DataIngestion(config= data_ingestion_config)\n",
    "    data_ingestion.download_file()\n",
    "    data_ingestion.extract_zip_file()\n",
    "except Exception as e:\n",
    "    logger.error(f\"Error during data ingestion: {e}\")\n",
    "    raise e "
   ]
  },
  {
   "cell_type": "code",
   "execution_count": null,
   "id": "5c4fa7ab",
   "metadata": {},
   "outputs": [],
   "source": []
  }
 ],
 "metadata": {
  "kernelspec": {
   "display_name": "venv",
   "language": "python",
   "name": "python3"
  },
  "language_info": {
   "codemirror_mode": {
    "name": "ipython",
    "version": 3
   },
   "file_extension": ".py",
   "mimetype": "text/x-python",
   "name": "python",
   "nbconvert_exporter": "python",
   "pygments_lexer": "ipython3",
   "version": "3.13.5"
  }
 },
 "nbformat": 4,
 "nbformat_minor": 5
}
